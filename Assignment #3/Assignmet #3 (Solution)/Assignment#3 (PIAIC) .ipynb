{
 "cells": [
  {
   "cell_type": "markdown",
   "metadata": {
    "id": "Hs3-rqQLaMOs"
   },
   "source": [
    "**Grand Assignment**"
   ]
  },
  {
   "cell_type": "markdown",
   "metadata": {
    "id": "yoFPv_Hcb3Iv"
   },
   "source": [
    "***Variables and Strings***"
   ]
  },
  {
   "cell_type": "markdown",
   "metadata": {
    "id": "XLAWmJh_b9vr"
   },
   "source": [
    "*1.**Simple Message:** Assign a message to a variable, and then print that\n",
    "message.* "
   ]
  },
  {
   "cell_type": "code",
   "execution_count": null,
   "metadata": {
    "id": "Xu9FoVk1aKtu"
   },
   "outputs": [],
   "source": [
    "msg = \"Hello World!\"\n",
    "print(msg)"
   ]
  },
  {
   "cell_type": "markdown",
   "metadata": {
    "id": "Ckp41qGzcMhY"
   },
   "source": [
    "2.Find a quote from a famous person you admire. Print the\n",
    "quote and the name of its author. Your output should look something like the\n",
    "following, including the quotation marks:\n",
    "\n",
    "**Albert Einstein once said, “A person who never made a\n",
    "mistake never tried anything new.”**\n"
   ]
  },
  {
   "cell_type": "code",
   "execution_count": 3,
   "metadata": {
    "id": "RAOYKTZDc9l5"
   },
   "outputs": [
    {
     "name": "stdout",
     "output_type": "stream",
     "text": [
      "Albert Einstein once said, \"A person who never made a mistake never tried anything new.\"\n"
     ]
    }
   ],
   "source": [
    "print(\"Albert Einstein once said, \\\"A person who never made a mistake never tried anything new.\\\"\")"
   ]
  },
  {
   "cell_type": "markdown",
   "metadata": {
    "id": "5dsWBIrAduRU"
   },
   "source": [
    "*3. Use a variable to represent your favorite number. Then,\n",
    "using that variable, create a message that reveals your favorite number. Print\n",
    "that message*"
   ]
  },
  {
   "cell_type": "code",
   "execution_count": 6,
   "metadata": {
    "id": "n5bKUt2Xdxet"
   },
   "outputs": [
    {
     "name": "stdout",
     "output_type": "stream",
     "text": [
      "My favorite number is28\n"
     ]
    }
   ],
   "source": [
    "favouriteNum = 28\n",
    "msg = \"My favorite number is \" + str(favouriteNum)\n",
    "\n",
    "print(msg)"
   ]
  },
  {
   "cell_type": "markdown",
   "metadata": {
    "id": "03-7JmJFh1gu"
   },
   "source": [
    "4. **Calculate Area of a Circle::**\n",
    "\n",
    "Write a Python program which accepts the radius of a circle from the user and compute the area.\n",
    "\n",
    "Program Console Sample Output 1:\n",
    "\n",
    "Input Radius: 0.5\n",
    "\n",
    "Area of Circle with radius 0.5 is 0.7853981634"
   ]
  },
  {
   "cell_type": "code",
   "execution_count": 10,
   "metadata": {
    "id": "ZQqUhli7iD8V"
   },
   "outputs": [
    {
     "name": "stdout",
     "output_type": "stream",
     "text": [
      "Input Radius: 0.5\n",
      "Area of Circle with radius 0.5 is 0.7853981633974483\n"
     ]
    }
   ],
   "source": [
    "from math import pi\n",
    "\n",
    "radius = float(input(\"Input Radius: \"))\n",
    "Area = pi * radius**2\n",
    "\n",
    "print(\"Area of Circle with radius \" + str(radius) + \" is \" + str(Area))"
   ]
  },
  {
   "cell_type": "markdown",
   "metadata": {
    "id": "_52LUHoriEdK"
   },
   "source": [
    "5. **Check Number either positive, negative or zero::**\n",
    "\n",
    "Write a Python program to check if a number is positive, \n",
    "\n",
    "negative or zero\n",
    "\n",
    "Program Console Sample Output 1:\n",
    "\n",
    "Enter Number: -1\n",
    "\n",
    "Negative Number Entered\n",
    "\n",
    "Program Console Sample Output 2:\n",
    "\n",
    "Integer: 3\n",
    "\n",
    "Positive Number Entered\n",
    "\n",
    "Program Console Sample Output 3:\n",
    "\n",
    "Integer: 0\n",
    "\n",
    "Zero Entered"
   ]
  },
  {
   "cell_type": "code",
   "execution_count": 11,
   "metadata": {
    "id": "_yLJAc80iXk0"
   },
   "outputs": [
    {
     "name": "stdout",
     "output_type": "stream",
     "text": [
      "Enter a number: -1\n",
      "Negative number\n"
     ]
    }
   ],
   "source": [
    "num = float(input(\"Enter a number: \"))\n",
    "if num > 0:\n",
    "   print(\"Positive Number Entered\")\n",
    "elif num == 0:\n",
    "   print(\"Zero\")\n",
    "else:\n",
    "   print(\"Negative Number Entered\")"
   ]
  },
  {
   "cell_type": "markdown",
   "metadata": {
    "id": "vjXA6uhpiYQX"
   },
   "source": [
    "6. **Vowel Tester**\n",
    "Write a Python program to test whether a passed letter is a vowel or not\n",
    "\n",
    "Program Console Output 1:\n",
    "\n",
    "Enter a character: A\n",
    "\n",
    "Letter A is Vowel\n",
    "\n",
    "Program Console Output 2:\n",
    "\n",
    "Enter a character: e\n",
    "\n",
    "Letter e is Vowel\n",
    "\n",
    "Program Console Output 2:\n",
    "\n",
    "Enter a character: N\n",
    "\n",
    "Letter N is not Vowel."
   ]
  },
  {
   "cell_type": "code",
   "execution_count": 34,
   "metadata": {
    "id": "L62zqtG1jEb9"
   },
   "outputs": [
    {
     "name": "stdout",
     "output_type": "stream",
     "text": [
      "Enter a number: A\n",
      "Letter A is Vowel.\n"
     ]
    }
   ],
   "source": [
    "\n",
    "vowel = ['a', 'e', 'i', 'o', 'u', 'A', 'E', 'I', 'O', 'U']\n",
    "    \n",
    "character = str(input(\"Enter a character: \"))\n",
    "if character in vowel:\n",
    "\n",
    "        print (\"Letter \" +str(character)+ \" is Vowel.\")\n",
    "else:\n",
    "        print (\"Letter \" +str(character)+ \" is not Vowel.\")\n"
   ]
  },
  {
   "cell_type": "markdown",
   "metadata": {
    "id": "qZIGjsnDjFdk"
   },
   "source": [
    "7. **BMI Calculator**\n",
    "\n",
    "Write a Python program to calculate body mass index\n",
    "Program Console Sample 1:\n",
    "\n",
    "Enter Height in Cm: 180\n",
    "\n",
    "Enter Weight in Kg: 75\n",
    "\n",
    "Your BMI is 23.15"
   ]
  },
  {
   "cell_type": "code",
   "execution_count": 49,
   "metadata": {
    "id": "lE-JyyTnjcJU"
   },
   "outputs": [
    {
     "name": "stdout",
     "output_type": "stream",
     "text": [
      "Enter Height in Cm: 180\n",
      "Enter Weight in Kg: 75\n",
      "Your BMI is 23.15\n"
     ]
    }
   ],
   "source": [
    "height = float(input(\"Enter Height in Cm: \"))\n",
    "weight = float(input(\"Enter Weight in Kg: \"))\n",
    "\n",
    "bmi = round(weight/(height/100)**2 , 2)\n",
    "\n",
    "print(\"Your BMI is \" + str(bmi))"
   ]
  },
  {
   "cell_type": "markdown",
   "metadata": {
    "id": "11fYzZYid3qq"
   },
   "source": [
    "**List::**"
   ]
  },
  {
   "cell_type": "markdown",
   "metadata": {
    "id": "oUNnrKdyeOks"
   },
   "source": [
    "8. **Store the names of a few of your friends in a list called names**\n",
    "\n",
    " Print each person’s name by accessing each element in the list, one at a time."
   ]
  },
  {
   "cell_type": "code",
   "execution_count": 55,
   "metadata": {
    "id": "RY49qmHQeOGB"
   },
   "outputs": [
    {
     "name": "stdout",
     "output_type": "stream",
     "text": [
      "Shayan\n",
      "Taha\n",
      "Jaffar\n"
     ]
    }
   ],
   "source": [
    "names = [\"Shayan\", \"Taha\", \"Jaffar\"]\n",
    "\n",
    "\n",
    "print(names[0])\n",
    "print(names[1])\n",
    "print(names[2])\n"
   ]
  },
  {
   "cell_type": "markdown",
   "metadata": {
    "id": "HQe4CmBLd0a0"
   },
   "source": [
    "9. Start with the list you used in Question 4, but instead of just  printing each person’s name, print a message to them. The text of each message should be the same, but each message should be personalized with the\n",
    "person’s name."
   ]
  },
  {
   "cell_type": "code",
   "execution_count": 70,
   "metadata": {
    "id": "QfaA6SZieroG"
   },
   "outputs": [
    {
     "name": "stdout",
     "output_type": "stream",
     "text": [
      "Hello, Shayan!\n",
      "Hello, Taha!\n",
      "Hello, Jaffar!\n"
     ]
    }
   ],
   "source": [
    "\n",
    "names = [\"Shayan\", \"Taha\", \"Jaffar\"]\n",
    "i = 0\n",
    "while i < len(names):\n",
    "\n",
    "    print(\"Hello, \" + names[i].title() + \"!\")\n",
    "    i = i + 1\n",
    "    "
   ]
  },
  {
   "cell_type": "markdown",
   "metadata": {
    "id": "3t-zoTSTesyI"
   },
   "source": [
    " 10.**Make a python program that conatains your nine favourite dishes in a list called foods.**\n",
    "Print the message, The first three items in the list are:\n",
    "\n",
    "Then use a slice to print the first three items from that program’s list.\n",
    "\n",
    "Print the message, Three items from the middle of the list are:\n",
    "\n",
    "Use a slice to print three items from the middle of the list.\n",
    "\n",
    "Print the message, The last three items in the list are:\n",
    "\n",
    "Use a slice to print the last three items in the list."
   ]
  },
  {
   "cell_type": "code",
   "execution_count": 81,
   "metadata": {
    "id": "ZpnPQbgAmQhu"
   },
   "outputs": [
    {
     "name": "stdout",
     "output_type": "stream",
     "text": [
      "The first three items from that program’s list are: ['Biryani', 'Pizza', 'Karahi']\n",
      "Three items from the middle of the list are: ['Qorma', 'Tikka', 'Haleem']\n",
      "The last three items in the list are: ['Fish Fry', 'Broast', 'Kabab']\n"
     ]
    }
   ],
   "source": [
    "fav_foods = [\"Biryani\", \"Pizza\", \"Karahi\", \"Qorma\", \"Tikka\", \"Haleem\", \"Fish Fry\", \"Broast\", \"Kabab\" ]\n",
    "\n",
    "print(\"The first three items from that program’s list are: \" + str(fav_foods[:3]) +  \"\\nThree items from the middle of the list are: \" +  str(fav_foods[3:6]) + \"\\nThe last three items in the list are: \" + str(fav_foods[6:]) )"
   ]
  },
  {
   "cell_type": "markdown",
   "metadata": {
    "id": "h37WaaZKmRMe"
   },
   "source": [
    "11. **Start with your program from your last Question8.**\n",
    "Make a copy of the list of foods, and call it friend_foods.\n",
    "Then, do the following:\n",
    "\n",
    "Add a new dish to the original list.\n",
    "\n",
    "Add a different dish to the list friend_foods.\n",
    "\n",
    "Prove that you have two separate lists.\n",
    "\n",
    "Print the message, My favorite pizzas are: and then use a for loop to print the first list.\n",
    "\n",
    "Print the message,\n",
    "\n",
    "My friend’s favorite foods are:, and then use a for loop to print the second list.\n",
    "\n",
    "NOTE: Make sure each new dish is stored in the appropriate list."
   ]
  },
  {
   "cell_type": "code",
   "execution_count": 90,
   "metadata": {
    "id": "6FvxV2CioBQB"
   },
   "outputs": [
    {
     "name": "stdout",
     "output_type": "stream",
     "text": [
      "My favorite food are: \n",
      "\n",
      "Biryani\n",
      "Pizza\n",
      "Karahi\n",
      "Qorma\n",
      "BBQ\n",
      "\n",
      "\n",
      "My friend's favorite food are: \n",
      "\n",
      "Haleem\n",
      "Fish Fry\n",
      "Broast\n",
      "Grill\n"
     ]
    }
   ],
   "source": [
    "fav_foods = [\"Biryani\", \"Pizza\", \"Karahi\", \"Qorma\" ]\n",
    "friend_foods = [\"Haleem\", \"Fish Fry\", \"Broast\"]\n",
    "\n",
    "fav_foods.append(\"BBQ\")\n",
    "friend_foods.append(\"Grill\")\n",
    "\n",
    "print(\"My favorite food are: \\n\")\n",
    "for food in fav_foods:\n",
    "    print( food)\n",
    "    \n",
    "print(\"\\n\\nMy friend's favorite food are: \\n\")\n",
    "for friend_food in friend_foods:\n",
    "    print(friend_food)"
   ]
  },
  {
   "cell_type": "code",
   "execution_count": null,
   "metadata": {},
   "outputs": [],
   "source": []
  }
 ],
 "metadata": {
  "colab": {
   "collapsed_sections": [],
   "name": "Assignment.ipynb",
   "provenance": []
  },
  "kernelspec": {
   "display_name": "Python 3 (ipykernel)",
   "language": "python",
   "name": "python3"
  },
  "language_info": {
   "codemirror_mode": {
    "name": "ipython",
    "version": 3
   },
   "file_extension": ".py",
   "mimetype": "text/x-python",
   "name": "python",
   "nbconvert_exporter": "python",
   "pygments_lexer": "ipython3",
   "version": "3.9.7"
  }
 },
 "nbformat": 4,
 "nbformat_minor": 1
}
