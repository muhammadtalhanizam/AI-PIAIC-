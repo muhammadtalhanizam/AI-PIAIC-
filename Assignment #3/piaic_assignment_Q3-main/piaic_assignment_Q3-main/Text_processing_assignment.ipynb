{
  "nbformat": 4,
  "nbformat_minor": 0,
  "metadata": {
    "colab": {
      "name": "Text_processing assignment.ipynb",
      "provenance": [],
      "authorship_tag": "ABX9TyOxHBBSObM67znUqH3ATeQg",
      "include_colab_link": true
    },
    "kernelspec": {
      "name": "python3",
      "display_name": "Python 3"
    },
    "language_info": {
      "name": "python"
    }
  },
  "cells": [
    {
      "cell_type": "markdown",
      "metadata": {
        "id": "view-in-github",
        "colab_type": "text"
      },
      "source": [
        "<a href=\"https://colab.research.google.com/github/komalaftab/piaic_assignment_Q3/blob/main/Text_processing_assignment.ipynb\" target=\"_parent\"><img src=\"https://colab.research.google.com/assets/colab-badge.svg\" alt=\"Open In Colab\"/></a>"
      ]
    },
    {
      "cell_type": "markdown",
      "metadata": {
        "id": "9eQp5FTLIv0g"
      },
      "source": [
        "**Natural Language Processing with Disaster Tweets::**"
      ]
    },
    {
      "cell_type": "markdown",
      "metadata": {
        "id": "lSc9MzHTIvX7"
      },
      "source": [
        "**Task:: Predict which Tweets are about real disasters and which ones are not.**"
      ]
    },
    {
      "cell_type": "markdown",
      "metadata": {
        "id": "TV33jKrlIvG8"
      },
      "source": [
        "**load_data::**\n",
        "*https://www.kaggle.com/c/nlp-getting-started/data*"
      ]
    },
    {
      "cell_type": "markdown",
      "metadata": {
        "id": "abwuSKecIuxQ"
      },
      "source": [
        "**Data_Description::**"
      ]
    },
    {
      "cell_type": "markdown",
      "metadata": {
        "id": "4Etxw445JUuK"
      },
      "source": [
        "*Twitter has become an important communication channel in times of emergency.\n",
        "The ubiquitousness of smartphones enables people to announce an emergency they’re observing in real-time. Because of this, more agencies are interested in programatically monitoring Twitter (i.e. disaster relief organizations and news agencies)..*"
      ]
    },
    {
      "cell_type": "markdown",
      "metadata": {
        "id": "oCyKApCoJjrA"
      },
      "source": [
        "**Steps::**\n",
        "\n",
        "*    \n",
        "Loading data\n",
        "*  \n",
        "Data Preprocesing\n",
        " \n",
        "\n",
        "*   Define model\n",
        "*   Compile model\n",
        "\n",
        "*  \n",
        "Plotting Graphs for accuracy\n",
        "\n",
        "*   Saving model\n",
        "*   load model\n",
        "*   Testing data"
      ]
    },
    {
      "cell_type": "code",
      "metadata": {
        "id": "0xpZAJQKJhTa"
      },
      "source": [
        ""
      ],
      "execution_count": null,
      "outputs": []
    }
  ]
}